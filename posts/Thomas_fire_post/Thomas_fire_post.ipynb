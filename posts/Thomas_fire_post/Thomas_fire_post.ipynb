{
  "cells": [
    {
      "cell_type": "raw",
      "metadata": {},
      "source": [
        "---\n",
        "title: The Effects of the 2017 Thomas Fire\n",
        "subtitle: Using AQI and False Color Imagery\n",
        "author: Emma Bea Mitchell\n",
        "format: html\n",
        "editor_options:\n",
        "  chunk_output_type: console\n",
        "execute:\n",
        "  eval: true\n",
        "  warning: false\n",
        "  message: false\n",
        "  chunk_output_type: console\n",
        "---"
      ],
      "id": "31c9dd00"
    },
    {
      "cell_type": "markdown",
      "metadata": {},
      "source": [
        "# Impacts of the 2017 Thomas Fire\n",
        "\n",
        "The 2017 Thomas Fire in Santa Barbara and Ventura County, was one of the largest fires in California's history with over 280,000 acres burned. By looking at the Air Quality Index and fire scares resulting from the fire, we can begin to visualize its devastating effects. \n",
        "\n",
        "View more information and additional data exploration located on my Github.\n",
        "[View the full repository here](https://github.com/emmabeamitchell/Thomas_Fire_2017)\n",
        "\n",
        "<img title=\"Thomas Fire credit of Ray Ford / Noozhawk\" alt=\"Picture of the Thomas Fire\" src=\"https://news.ucsb.edu/sites/default/files/styles/large_2340x1212/public/2023-11/Thomas-Fire-Faria-Beach-cropped-Noozhawk.jpg?itok=YGnOu1vN\" width = 400>\n",
        "\n",
        "Credit to Ray Ford/ Noozhawk\n",
        "\n",
        "## About: \n",
        "### About the Project:\n",
        "\n",
        "The purpose of this project is to analyze both `AQI` and `landsat` data from the Santa Barbara County area to explore the fire's effects. \n",
        "\n",
        "First, we look at `AQI` data from 2017 and 2018, subsetting specifically for Santa Barbara County, and creating a `rolling mean`, which allows us to create a graph visualizing the spike is Air Quality Index at the time of the fire. \n",
        "\n",
        "Second, we explore `landsat` data, using both true and false color imagery to show the benefits of using false color imagery. We used the `landsat` data, combined with the `thomas_fire` data to map the effects of the fire. \n",
        "\n",
        "\n",
        "Highlights include:\n",
        "- date and string data wrangling\n",
        "- visualizing time series\n",
        "- use of the `.rolling` function to find averages\n",
        "- use of `.loc` for spatial subsetting\n",
        "- use of `.squeeze` and `.drop_vars` to remove bands\n",
        "- load and explore data with `rioxr.open_rasterio()`\n",
        "- clip one dataset to another using `.rio.clip_box`\n",
        "- creation of true and false imagery\n",
        "- crs transformation\n",
        "\n",
        "### About the data:\n",
        "\n",
        "The `AQI` data is updated twice a year by the EPA. It contains Air Quality Index data by day, year, and county. It is from a collection of pregenerated data from outdoor monitors across the US. The data was retrieved from [the EPA website](https://aqs.epa.gov/aqsweb/airdata/download_files.html)\n",
        "\n",
        "The `landsat` data is a simplified collection of bands (red, green, blue, near-infrared and shortwave infrared) from the Landsat Collection 2 Level-2 atmosperically corrected surface reflectance data, collected by the Landsat 8 satellite. The data was retrieved from the [Microsoft Planetary Computer Data Catalogue](https://planetarycomputer.microsoft.com/dataset/landsat-c2-l2) and pre-processed to remove data outside land and coarsen the spatial resolution. \n",
        "\n",
        "The `Thomas_fire` data is a subset of the shapefile from [California Fires (all) from Data.gov](https://catalog.data.gov/dataset/california-fire-perimeters-all-b3436), which contains fire data for all of California. This data is updated annualy by The California Department of Forestry and Fire Protection's Fire and Resource Assessment Program.\n",
        "\n",
        "### References:\n",
        "\n",
        "Microsoft Planetary Computer Data Catalogue, Landsat collection 2 Level-2. Available from: https://planetarycomputer.microsoft.com/dataset/landsat-c2-l2. Access date: December 3rd, 2024.\n",
        "\n",
        "Data.gov Data Catalogue, California Fire Perimeters (all). Available from: https://catalog.data.gov/dataset/california-fire-perimeters-all-b3436. Access date: December 3rd, 2024.\n",
        "\n",
        "AirData, US EPA. Available from:  https://aqs.epa.gov/aqsweb/airdata/download_files.html. Access date: December 3rd, 2024\n",
        "\n",
        "## Air Quality Index During Thomas Fire\n",
        "\n",
        "Air Quality Index is determined by the concentrations of pollutants in the air, and has a range of values that determine health\n",
        "- Good (green): 0 to 50\n",
        "- Moderate (yellow): 51 to 100\n",
        "- Unhealthy for sensitive groups (orange): 101 to 150\n",
        "- Unhealthy (red): 151 to 200\n",
        "- Very unhealthy (purple): 201 to 300\n",
        "- Hazardous (maroon): 300 +\n",
        "\n",
        "By plotting the AQI of before, during, and after the Thomas Fire, we can view one of the fire's important effects on people and the environment.\n",
        "\n",
        "#### Set up our data\n",
        "\n",
        "Load in the necessary packages to run our analysis\n"
      ],
      "id": "1fb77657"
    },
    {
      "cell_type": "code",
      "metadata": {
        "tags": []
      },
      "source": [
        "import os\n",
        "import pandas as pd\n",
        "import numpy as np\n",
        "import matplotlib.pyplot as plt\n",
        "\n",
        "import geopandas as gpd\n",
        "from shapely.geometry import Polygon\n",
        "\n",
        "import rioxarray as rioxr\n",
        "import xarray as xr"
      ],
      "id": "1668cb7d",
      "execution_count": null,
      "outputs": []
    },
    {
      "cell_type": "markdown",
      "metadata": {},
      "source": [
        "Read in data for the Air Quality Index in 2017 and 2018 using `pd` to create `PandasDataFrames`\n"
      ],
      "id": "a5a644bb"
    },
    {
      "cell_type": "code",
      "metadata": {
        "tags": []
      },
      "source": [
        "aqi_17 = pd.read_csv(\"https://aqs.epa.gov/aqsweb/airdata/daily_aqi_by_county_2017.zip\", compression = 'zip')\n",
        "aqi_18 = pd.read_csv(\"https://aqs.epa.gov/aqsweb/airdata/daily_aqi_by_county_2018.zip\", compression = 'zip')"
      ],
      "id": "6f3e4ce3",
      "execution_count": null,
      "outputs": []
    },
    {
      "cell_type": "markdown",
      "metadata": {},
      "source": [
        "We currently have two separate data frames for two separate years. Combining them using the `.concat` pandas function allows us to \"glue\" the data together into one `PandasDataFrame`\n"
      ],
      "id": "bd42d327"
    },
    {
      "cell_type": "code",
      "metadata": {
        "tags": []
      },
      "source": [
        "# Concatenate the two datasets to combine\n",
        "aqi = pd.concat([aqi_17, aqi_18])"
      ],
      "id": "dbabbbdc",
      "execution_count": null,
      "outputs": []
    },
    {
      "cell_type": "markdown",
      "metadata": {},
      "source": [
        "#### Clean the data\n",
        "Change column names to lower case and replace spaces with underscores for continuity and easier wrangling\n"
      ],
      "id": "0b71130c"
    },
    {
      "cell_type": "code",
      "metadata": {
        "tags": []
      },
      "source": [
        "# Clean column names\n",
        "aqi.columns = aqi.columns.str.lower().str.replace(' ','_')\n",
        "\n",
        "# Print column names to confirm lower snake case change\n",
        "print(aqi.columns)"
      ],
      "id": "a85e49ea",
      "execution_count": null,
      "outputs": []
    },
    {
      "cell_type": "markdown",
      "metadata": {},
      "source": [
        "To effectively work with time series data, we need to make sure that the `date` column is set as a `pd.datetime` object. This ensures that python realizes that the `date` column corresponds to dates. We will then set the `date` column as the index to work with the time series data and easily plot it later on. \n"
      ],
      "id": "8ba9a1f2"
    },
    {
      "cell_type": "code",
      "metadata": {
        "tags": []
      },
      "source": [
        "# Change date column to datetime object\n",
        "aqi.date = pd.to_datetime(aqi['date'])"
      ],
      "id": "3b25e25a",
      "execution_count": null,
      "outputs": []
    },
    {
      "cell_type": "code",
      "metadata": {
        "tags": []
      },
      "source": [
        "# Set date as index\n",
        "aqi = aqi.set_index('date')"
      ],
      "id": "60402e2e",
      "execution_count": null,
      "outputs": []
    },
    {
      "cell_type": "markdown",
      "metadata": {},
      "source": [
        "#### Use our data\n",
        "We actually only want to use a portion of the `aqi` dataset. We will subset the data for only Santa Barbara County because we are interested only in the effects of the Thomas Fire, which occured in that county.\n"
      ],
      "id": "33e47009"
    },
    {
      "cell_type": "code",
      "metadata": {
        "tags": []
      },
      "source": [
        "# Subset county_name\n",
        "aqi_sb = aqi[aqi['county_name'] == 'Santa Barbara']"
      ],
      "id": "39e3f530",
      "execution_count": null,
      "outputs": []
    },
    {
      "cell_type": "markdown",
      "metadata": {},
      "source": [
        "Calculate the five day average of the AQI. We will do this using the `.rolling()` function, a lazy function that will allow us to calculate the `mean` over the given window. In this case we want to see the five day average. We will create a new column called `five_day_average` to keep this information in our dataframe.\n"
      ],
      "id": "0e8ef6c0"
    },
    {
      "cell_type": "code",
      "metadata": {
        "tags": []
      },
      "source": [
        "aqi_sb.loc[:, 'five_day_average'] = aqi_sb['aqi'].rolling(window='5D').mean()"
      ],
      "id": "ea7bf53d",
      "execution_count": null,
      "outputs": []
    },
    {
      "cell_type": "markdown",
      "metadata": {},
      "source": [
        "#### Plot the five day average\n",
        "\n",
        "We will use `.plot()` to visualize the five day average and the daily AQI surrounding and during the Thomas Fire.\n"
      ],
      "id": "db7dfa01"
    },
    {
      "cell_type": "code",
      "metadata": {
        "tags": []
      },
      "source": [
        "aqi_sb[['aqi', 'five_day_average']].plot()"
      ],
      "id": "b9c1d700",
      "execution_count": null,
      "outputs": []
    },
    {
      "cell_type": "markdown",
      "metadata": {},
      "source": [
        "The Thomas Fire burned in December 2017 through January 2018. When looking at that time frame on our plot, we can clearly see how the fire significantly drove up the AQI. This makes sense, as a large fire releases many contaminants into the air, driving up the index. Recalling back to the AQI index number indications, we can see that the five day average during the fire got above 200, which is very unhealthy. It even appears that the daily AQI reached over 300, putting it into the highest and most hazardous category.  \n",
        "\n",
        "## Landsat Data of Thomas Fire\n",
        "\n",
        "The Landsat satellite has the ability to capture a collection of bands (red, green, blue, near-infrared and shortwave infrared) through data on reflected light. The appearance of each of these bands indicates the presence of different materials in the environment. Using false color imagery can help us visualize bands we cannot see with our naked eye, and better understand what they mean. \n",
        "\n",
        "<img title=\"Reflectance Spectra credit of NASA, ESA, Leah Hustak (STScI)\" alt=\"Graph of reflectance spectra\" src=\"https://stsci-opo.org/STScI-01F8QZ8NDAYKWN2WR30VQ45E4Z.jpg width = 400\">\n",
        "Credit to NASA, ESA, Leah Hustak (STScI)\n",
        "\n",
        "#### Read in the fire data\n"
      ],
      "id": "f4f03965"
    },
    {
      "cell_type": "code",
      "metadata": {
        "tags": []
      },
      "source": [
        "# Read in fire data\n",
        "path = fp = os.path.join(\"data\",\"California_Fire_Perimeters_(all).shp\") \n",
        "\n",
        "perimeters = gpd.read_file(path) "
      ],
      "id": "f1941148",
      "execution_count": null,
      "outputs": []
    },
    {
      "cell_type": "markdown",
      "metadata": {},
      "source": [
        "#### Brief exploration\n"
      ],
      "id": "c67d9f3b"
    },
    {
      "cell_type": "code",
      "metadata": {
        "tags": []
      },
      "source": [
        "# Explore CRS\n",
        "print(f\"ellipsoid: {perimeters.crs.ellipsoid}\")\n",
        "print(f\"datum: {perimeters.crs.datum}\")\n",
        "print(f\"crs: {perimeters.crs}\")\n",
        "print(f\"{'Is the CRS geographic?:':<25} {perimeters.crs.is_geographic}\")\n",
        "print(f\"{'Is the CRS projected?:':<25} {perimeters.crs.is_projected}\")"
      ],
      "id": "8f68ea31",
      "execution_count": null,
      "outputs": []
    },
    {
      "cell_type": "markdown",
      "metadata": {},
      "source": [
        "#### Select for Thomas Fire\n",
        "\n",
        "We don't want fire data for the entire state, so let's select only for the Thomas Fire in 2017\n"
      ],
      "id": "df21c848"
    },
    {
      "cell_type": "code",
      "metadata": {
        "tags": []
      },
      "source": [
        "# Select for only the Thomas Fire 2017\n",
        "thomas_fire = perimeters.loc[(perimeters['FIRE_NAME'] == \"THOMAS\") &\n",
        "                                 (perimeters['YEAR_'] == 2017)]"
      ],
      "id": "1429572c",
      "execution_count": null,
      "outputs": []
    },
    {
      "cell_type": "markdown",
      "metadata": {},
      "source": [
        "#### Read in Landsat data\n"
      ],
      "id": "b8115e0e"
    },
    {
      "cell_type": "code",
      "metadata": {
        "tags": []
      },
      "source": [
        "# Load in landsat data using `os` and import it using `rioxr.open_rasterio()`\n",
        "root = os.path.join('/',\n",
        "                  'courses',\n",
        "                  'EDS220',\n",
        "                  'data',\n",
        "                  'hwk4_landsat_data')\n",
        "\n",
        "fp = os.path.join(root,\n",
        "                 'landsat8-2018-01-26-sb-simplified.nc')\n",
        "\n",
        "landsat = rioxr.open_rasterio(fp)"
      ],
      "id": "76c1756f",
      "execution_count": null,
      "outputs": []
    },
    {
      "cell_type": "code",
      "metadata": {
        "tags": []
      },
      "source": [
        "# View landsat \n",
        "landsat"
      ],
      "id": "638f22ca",
      "execution_count": null,
      "outputs": []
    },
    {
      "cell_type": "markdown",
      "metadata": {},
      "source": [
        "Because this data is an xarray, we can simply call `landsat` to see information about it. Its dimensions are x:870, y:731, with one band. The data variables are red, green, blue, nir08, swir22. We can see that there is only one band, so we can get rid of the band dimension\n"
      ],
      "id": "551abb60"
    },
    {
      "cell_type": "code",
      "metadata": {
        "tags": []
      },
      "source": [
        "# Drop band dimensions and remove coordinates associated to band\n",
        "landsat = landsat.squeeze()\n",
        "landsat = landsat.drop_vars('band')\n",
        "# Print to confirm results\n",
        "print(landsat.dims, landsat.coords)"
      ],
      "id": "b35045c4",
      "execution_count": null,
      "outputs": []
    },
    {
      "cell_type": "markdown",
      "metadata": {},
      "source": [
        "### True Color image\n",
        "Index the colors in the order to create a true color image\n"
      ],
      "id": "b1ef5a15"
    },
    {
      "cell_type": "code",
      "metadata": {
        "tags": []
      },
      "source": [
        "# Add robust = True to view true color RGB image\n",
        "landsat[[\"red\", \"green\", \"blue\"]].to_array().plot.imshow(robust = True)"
      ],
      "id": "9d851ca1",
      "execution_count": null,
      "outputs": []
    },
    {
      "cell_type": "markdown",
      "metadata": {},
      "source": [
        "With the true color image, our entire plot looks very monochromatic. It's not possible to see the effects of the Thomas Fire, as all of the land looks extremely similar. In order to get any information from our plot, we need to switch our image to false color.\n",
        "\n",
        "## False color image\n",
        "\n",
        "Our false color image will plot the short-wave infrared (swir22), near-infrared, and red variables (in that order).\n"
      ],
      "id": "ba88f9ca"
    },
    {
      "cell_type": "code",
      "metadata": {
        "tags": []
      },
      "source": [
        "# Plot false color image\n",
        "landsat[[\"swir22\", \"nir08\", \"red\"]].to_array().plot.imshow(robust = True)"
      ],
      "id": "b777c6b6",
      "execution_count": null,
      "outputs": []
    },
    {
      "cell_type": "markdown",
      "metadata": {},
      "source": [
        "## Map our false color imagery\n",
        "Create a map showing the shortwave infrared/near-infrared/red false color image together with the Thomas Fire. This will allow us to understand what fire scars we are seeing in the environment.\n",
        "\n",
        "Whenever we combine spatial data we have to check that the CRSs match, and reproject if they do not.\n"
      ],
      "id": "be6d6fd7"
    },
    {
      "cell_type": "code",
      "metadata": {
        "tags": []
      },
      "source": [
        "# Examine CRss\n",
        "print('thomas_fire CRS: ', thomas_fire.crs)\n",
        "print('landsat CRS: ', landsat.rio.crs)"
      ],
      "id": "cadd0336",
      "execution_count": null,
      "outputs": []
    },
    {
      "cell_type": "code",
      "metadata": {
        "tags": []
      },
      "source": [
        "# Reproject thomas_fire to landsat crs\n",
        "thomas_fire = thomas_fire.to_crs(landsat.rio.crs)"
      ],
      "id": "063f30cc",
      "execution_count": null,
      "outputs": []
    },
    {
      "cell_type": "markdown",
      "metadata": {},
      "source": [
        "In addition to layering the perimeter data on top of the landsat data, we also want to \"zoom in\" on the area we are interested in. We will clip the landsat data to the Thomas fire bounds using `.rio.clip_box()`\n"
      ],
      "id": "e7f961ce"
    },
    {
      "cell_type": "code",
      "metadata": {
        "tags": []
      },
      "source": [
        "# Clip data\n",
        "landsat_small = landsat.rio.clip_box(*thomas_fire.total_bounds)"
      ],
      "id": "60a24ea6",
      "execution_count": null,
      "outputs": []
    },
    {
      "cell_type": "markdown",
      "metadata": {},
      "source": [
        "Let's finally create a clean plot of our false color image. \n"
      ],
      "id": "4c680afa"
    },
    {
      "cell_type": "code",
      "metadata": {
        "tags": []
      },
      "source": [
        "# Set aspect ratio\n",
        "landsat_aspect_ratio = landsat.rio.width / landsat.rio.height\n",
        "\n",
        "# Plot clipped data\n",
        "fig, ax = plt.subplots(figsize=(6, 6 * landsat_aspect_ratio))  \n",
        "landsat_small[[\"swir22\", \"nir08\", \"red\"]].to_array().plot.imshow(robust = True, ax=ax)\n",
        "thomas_fire.boundary.plot(ax=ax, linewidth=1, edgecolor='black', label = \"Thomas Fire Perimeter\")\n",
        "\n",
        "ax.set_axis_off()\n",
        "ax.set_title('False Color Imagery Map of the 2017\\nThomas Fire in Ventura and Santa Barbara County')\n",
        "fig.text(0.5, 0.27, 'Data Source: CAL FIRE via Data.gov & Microsoft Planetary Computer Data Catalogue', ha='center', va='center', fontsize=8, color='black', fontstyle='italic') \n",
        "fig.text(0.5, 0.25, 'Date Accessed: 11/22/24', ha='center', va='center', fontsize=8, color='black', fontstyle='italic')\n",
        "ax.legend(loc='upper right')\n",
        "fig.savefig('landsat_map_thomas_fire.png', dpi=300, bbox_inches='tight')\n",
        "plt.show()"
      ],
      "id": "4a9cc3c5",
      "execution_count": null,
      "outputs": []
    },
    {
      "cell_type": "markdown",
      "metadata": {},
      "source": [
        "False color imagery is being used to show the scar from the 2017 Thomas Fire. We can see that the color is significantly different inside the Thomas Fire Perimeter. The difference in color indicates a difference in vegetation (ie. dead vs alive) which more easily shows us the effects of the Thomas Fire than a true color image would. \n",
        "\n",
        "**Let's break down the false color image:**|\n",
        "\n",
        "The red represents shortwave infrared wavelengths which is shown on the far right side of the figure, after the 2,000 nanometer mark. We can see that the shortwave infrared shows mostly dry soil. That means that where we are seeing red on our map, that is dry soil, meaning a lack of living vegetation.\n",
        "\n",
        "\n",
        "The green represents near-infrared wavelengths, which is shown on the figure between wavelengths of 850 t0 880. We can see that the near-infrared wavelengths show mostly healthy vegetation. That means that where we are seeing green on our map, that is vegetation, meaning a lack of fire scars. \n",
        "\n",
        "\n",
        "The blue represents red. We don't see any blue in our image, so we do not need to worry about its reflectance. \n"
      ],
      "id": "c07f2269"
    }
  ],
  "metadata": {
    "kernelspec": {
      "name": "python3",
      "language": "python",
      "display_name": "Python 3 (ipykernel)"
    }
  },
  "nbformat": 4,
  "nbformat_minor": 5
}